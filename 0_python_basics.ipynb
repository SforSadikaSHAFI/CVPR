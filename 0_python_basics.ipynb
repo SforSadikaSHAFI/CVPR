{
 "cells": [
  {
   "cell_type": "code",
   "execution_count": 1,
   "id": "45245851",
   "metadata": {},
   "outputs": [
    {
     "name": "stdout",
     "output_type": "stream",
     "text": [
      "5\n"
     ]
    }
   ],
   "source": [
    "a = 5\n",
    "print(a)"
   ]
  },
  {
   "cell_type": "code",
   "execution_count": 2,
   "id": "7dfb46dd",
   "metadata": {},
   "outputs": [
    {
     "name": "stdout",
     "output_type": "stream",
     "text": [
      "6\n",
      "4\n",
      "10\n",
      "2.5\n"
     ]
    }
   ],
   "source": [
    "print(a+1)\n",
    "print(a-1)\n",
    "print(a*2)\n",
    "print(a/2)"
   ]
  },
  {
   "cell_type": "code",
   "execution_count": 3,
   "id": "da3fa4ec",
   "metadata": {},
   "outputs": [
    {
     "name": "stdout",
     "output_type": "stream",
     "text": [
      "25\n"
     ]
    }
   ],
   "source": [
    "print(a**2)"
   ]
  },
  {
   "cell_type": "code",
   "execution_count": 4,
   "id": "abbdeac5",
   "metadata": {},
   "outputs": [
    {
     "name": "stdout",
     "output_type": "stream",
     "text": [
      "2\n"
     ]
    }
   ],
   "source": [
    "print(a//2)"
   ]
  },
  {
   "cell_type": "code",
   "execution_count": 5,
   "id": "9c9ff09a",
   "metadata": {},
   "outputs": [
    {
     "name": "stdout",
     "output_type": "stream",
     "text": [
      "1\n"
     ]
    }
   ],
   "source": [
    "print(a//5)"
   ]
  },
  {
   "cell_type": "code",
   "execution_count": 6,
   "id": "21102b96",
   "metadata": {},
   "outputs": [
    {
     "name": "stdout",
     "output_type": "stream",
     "text": [
      "0\n"
     ]
    }
   ],
   "source": [
    "print(a//10)"
   ]
  },
  {
   "cell_type": "code",
   "execution_count": 7,
   "id": "2b76a8cf",
   "metadata": {},
   "outputs": [
    {
     "name": "stdout",
     "output_type": "stream",
     "text": [
      "<class 'int'>\n"
     ]
    }
   ],
   "source": [
    "print(type(a))"
   ]
  },
  {
   "cell_type": "code",
   "execution_count": 8,
   "id": "30fbfd9c",
   "metadata": {},
   "outputs": [],
   "source": [
    "t = True \n",
    "f = False"
   ]
  },
  {
   "cell_type": "code",
   "execution_count": 9,
   "id": "51126eb1",
   "metadata": {},
   "outputs": [
    {
     "name": "stdout",
     "output_type": "stream",
     "text": [
      "<class 'bool'>\n"
     ]
    }
   ],
   "source": [
    "print(type(t))"
   ]
  },
  {
   "cell_type": "code",
   "execution_count": 10,
   "id": "cfc30a58",
   "metadata": {},
   "outputs": [
    {
     "name": "stdout",
     "output_type": "stream",
     "text": [
      "False\n",
      "True\n",
      "False\n",
      "True\n"
     ]
    }
   ],
   "source": [
    "print(t and f)\n",
    "print(t or f)\n",
    "print(not t)\n",
    "print(t != f)"
   ]
  },
  {
   "cell_type": "code",
   "execution_count": 11,
   "id": "b6670e52",
   "metadata": {},
   "outputs": [
    {
     "name": "stdout",
     "output_type": "stream",
     "text": [
      "Hello World\n",
      "Hello World\n"
     ]
    }
   ],
   "source": [
    "print(\"Hello World\")\n",
    "print('Hello World')"
   ]
  },
  {
   "cell_type": "code",
   "execution_count": 17,
   "id": "719b6763",
   "metadata": {},
   "outputs": [
    {
     "name": "stdout",
     "output_type": "stream",
     "text": [
      "Hello \n",
      "   World!!!\n"
     ]
    }
   ],
   "source": [
    "print(\"\"\"Hello \n",
    "   World!!!\"\"\")"
   ]
  },
  {
   "cell_type": "code",
   "execution_count": 31,
   "id": "85f9fabb",
   "metadata": {},
   "outputs": [
    {
     "name": "stdout",
     "output_type": "stream",
     "text": [
      "the value is 5 and squre of 5 is 25\n"
     ]
    }
   ],
   "source": [
    "#print(f\"the value is {a}\")  ##recomanded\n",
    "#print(\"the value is \"+ str(a))\n",
    "#print(\"the value is {}\".format(a))\n",
    "print(\"the value is %d and squre of %d is %d\"% (a,a,a**2)) ##recomanded"
   ]
  },
  {
   "cell_type": "code",
   "execution_count": 25,
   "id": "7c5ac73a",
   "metadata": {},
   "outputs": [
    {
     "name": "stdout",
     "output_type": "stream",
     "text": [
      "What is your name?\n",
      "Sadika\n",
      "Hi Sadika!\n"
     ]
    }
   ],
   "source": [
    "print('What is your name?')\n",
    "name = input()\n",
    "#print('Hi '+ name + '!')\n",
    "print(f\"Hi {name}!\")"
   ]
  },
  {
   "cell_type": "markdown",
   "id": "115dd5ad",
   "metadata": {},
   "source": [
    "# Else if"
   ]
  },
  {
   "cell_type": "code",
   "execution_count": 32,
   "id": "c2707fa9",
   "metadata": {},
   "outputs": [
    {
     "name": "stdout",
     "output_type": "stream",
     "text": [
      "positive\n"
     ]
    }
   ],
   "source": [
    "if a>0:\n",
    "    print(\"positive\")\n",
    "elif a<0:\n",
    "     print(\"negative\")\n",
    "else:\n",
    "     print(\"Zero\")"
   ]
  },
  {
   "cell_type": "code",
   "execution_count": 36,
   "id": "304af570",
   "metadata": {},
   "outputs": [
    {
     "name": "stdout",
     "output_type": "stream",
     "text": [
      "0 1 2 3 4 5 6 7 8 9 "
     ]
    }
   ],
   "source": [
    "for i in range(10):\n",
    "    print(i, end=\" \")"
   ]
  },
  {
   "cell_type": "code",
   "execution_count": 38,
   "id": "2360f54d",
   "metadata": {},
   "outputs": [
    {
     "name": "stdout",
     "output_type": "stream",
     "text": [
      "11\n",
      "9\n",
      "7\n",
      "5\n"
     ]
    }
   ],
   "source": [
    "for i in range(11,3,-2):\n",
    "    print(i)"
   ]
  },
  {
   "cell_type": "code",
   "execution_count": null,
   "id": "6b778640",
   "metadata": {},
   "outputs": [],
   "source": []
  }
 ],
 "metadata": {
  "kernelspec": {
   "display_name": "Python 3",
   "language": "python",
   "name": "python3"
  },
  "language_info": {
   "codemirror_mode": {
    "name": "ipython",
    "version": 3
   },
   "file_extension": ".py",
   "mimetype": "text/x-python",
   "name": "python",
   "nbconvert_exporter": "python",
   "pygments_lexer": "ipython3",
   "version": "3.8.8"
  }
 },
 "nbformat": 4,
 "nbformat_minor": 5
}
