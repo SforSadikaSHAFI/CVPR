{
 "cells": [
  {
   "cell_type": "markdown",
   "id": "6cef4572",
   "metadata": {},
   "source": [
    "# List"
   ]
  },
  {
   "cell_type": "code",
   "execution_count": 3,
   "id": "852b12e7",
   "metadata": {},
   "outputs": [
    {
     "name": "stdout",
     "output_type": "stream",
     "text": [
      "['a', 'b', 1, 2]\n"
     ]
    }
   ],
   "source": [
    "l = ['a','b', 1 , 2]\n",
    "print(l)"
   ]
  },
  {
   "cell_type": "code",
   "execution_count": 4,
   "id": "df0a1bd5",
   "metadata": {},
   "outputs": [
    {
     "name": "stdout",
     "output_type": "stream",
     "text": [
      "a\n"
     ]
    }
   ],
   "source": [
    "print(l[0])"
   ]
  },
  {
   "cell_type": "code",
   "execution_count": 6,
   "id": "66341115",
   "metadata": {},
   "outputs": [
    {
     "name": "stdout",
     "output_type": "stream",
     "text": [
      "b 1\n"
     ]
    }
   ],
   "source": [
    "print(l[1] , l[2])"
   ]
  },
  {
   "cell_type": "code",
   "execution_count": 10,
   "id": "29b83101",
   "metadata": {},
   "outputs": [
    {
     "name": "stdout",
     "output_type": "stream",
     "text": [
      "2 b a\n"
     ]
    }
   ],
   "source": [
    "print(l[-1],l[-3],l[-4])"
   ]
  },
  {
   "cell_type": "code",
   "execution_count": 11,
   "id": "f3b3d24c",
   "metadata": {},
   "outputs": [
    {
     "name": "stdout",
     "output_type": "stream",
     "text": [
      "a\n",
      "b\n",
      "1\n",
      "2\n"
     ]
    }
   ],
   "source": [
    "for i in l:\n",
    "    print(i)"
   ]
  },
  {
   "cell_type": "code",
   "execution_count": 13,
   "id": "858b71a4",
   "metadata": {},
   "outputs": [
    {
     "name": "stdout",
     "output_type": "stream",
     "text": [
      "[0] = a\n",
      "[1] = b\n",
      "[2] = 1\n",
      "[3] = 2\n"
     ]
    }
   ],
   "source": [
    "for i,v in enumerate(l):\n",
    "    print(f\"[{i}] = {v}\")"
   ]
  },
  {
   "cell_type": "code",
   "execution_count": 14,
   "id": "77a74eb0",
   "metadata": {},
   "outputs": [
    {
     "name": "stdout",
     "output_type": "stream",
     "text": [
      "['a', 'b', 7, 2]\n"
     ]
    }
   ],
   "source": [
    "#update\n",
    "l[2] = 7\n",
    "print(l)"
   ]
  },
  {
   "cell_type": "code",
   "execution_count": 15,
   "id": "14523fde",
   "metadata": {},
   "outputs": [],
   "source": [
    "#add value end of the list\n",
    "l.append(9)\n",
    "l.append('c')"
   ]
  },
  {
   "cell_type": "code",
   "execution_count": 16,
   "id": "d5858eb5",
   "metadata": {},
   "outputs": [
    {
     "name": "stdout",
     "output_type": "stream",
     "text": [
      "['a', 'b', 7, 2, 9, 'c']\n"
     ]
    }
   ],
   "source": [
    "print(l)"
   ]
  },
  {
   "cell_type": "code",
   "execution_count": 17,
   "id": "4d931746",
   "metadata": {},
   "outputs": [
    {
     "name": "stdout",
     "output_type": "stream",
     "text": [
      "['z', 'a', 'b', 7, 2, 9, 'c']\n"
     ]
    }
   ],
   "source": [
    "#add value at specific location (index,value)\n",
    "l.insert(0,'z')\n",
    "print(l)\n"
   ]
  },
  {
   "cell_type": "code",
   "execution_count": 18,
   "id": "a31d6102",
   "metadata": {},
   "outputs": [
    {
     "name": "stdout",
     "output_type": "stream",
     "text": [
      "['z', 'a', 'b', 7, 2, 9]\n"
     ]
    }
   ],
   "source": [
    "#remove by value {if same value is present , first one will remove only}\n",
    "l.remove('c')\n",
    "print(l)"
   ]
  },
  {
   "cell_type": "code",
   "execution_count": 19,
   "id": "caa89b82",
   "metadata": {},
   "outputs": [],
   "source": [
    "#remove value by index \n",
    "del l[0]"
   ]
  },
  {
   "cell_type": "code",
   "execution_count": 20,
   "id": "9e4b9d33",
   "metadata": {},
   "outputs": [
    {
     "name": "stdout",
     "output_type": "stream",
     "text": [
      "['a', 'b', 7, 2, 9]\n"
     ]
    }
   ],
   "source": [
    "print(l)"
   ]
  },
  {
   "cell_type": "code",
   "execution_count": 28,
   "id": "b361ab2e",
   "metadata": {},
   "outputs": [
    {
     "name": "stdout",
     "output_type": "stream",
     "text": [
      "[[1, 2, 3, 4, 5], ['a', 'b'], ['one', 'two', 'three']]\n"
     ]
    }
   ],
   "source": [
    "ll = [\n",
    "    [1,2,3,4,5],\n",
    "    ['a','b'],\n",
    "    ['one','two','three']\n",
    "]\n",
    "print(ll)"
   ]
  },
  {
   "cell_type": "code",
   "execution_count": 33,
   "id": "e7af67ff",
   "metadata": {},
   "outputs": [
    {
     "name": "stdout",
     "output_type": "stream",
     "text": [
      "two\n"
     ]
    }
   ],
   "source": [
    "#ll [2][1]  # 'two'\n",
    "print(ll [2][1]) # two"
   ]
  },
  {
   "cell_type": "markdown",
   "id": "89fc75b5",
   "metadata": {},
   "source": [
    "# Tuple"
   ]
  },
  {
   "cell_type": "code",
   "execution_count": 34,
   "id": "21cf04f9",
   "metadata": {},
   "outputs": [
    {
     "name": "stdout",
     "output_type": "stream",
     "text": [
      "('a', 'b', 1, 2)\n"
     ]
    }
   ],
   "source": [
    "t = ('a','b',1,2)\n",
    "print(t)"
   ]
  },
  {
   "cell_type": "code",
   "execution_count": 35,
   "id": "9a82cf3f",
   "metadata": {},
   "outputs": [
    {
     "name": "stdout",
     "output_type": "stream",
     "text": [
      "<class 'list'> <class 'tuple'>\n"
     ]
    }
   ],
   "source": [
    "print(type(l),type(t))"
   ]
  },
  {
   "cell_type": "code",
   "execution_count": null,
   "id": "63237aa0",
   "metadata": {},
   "outputs": [],
   "source": [
    "# Tuple is immuatable "
   ]
  },
  {
   "cell_type": "markdown",
   "id": "38753a03",
   "metadata": {},
   "source": [
    "# SET"
   ]
  },
  {
   "cell_type": "code",
   "execution_count": 36,
   "id": "8626a33b",
   "metadata": {},
   "outputs": [
    {
     "name": "stdout",
     "output_type": "stream",
     "text": [
      "{'ARCH', 'CSE', 'MBA'}\n"
     ]
    }
   ],
   "source": [
    "s = {\"MBA\" , \"CSE\", \"ARCH\"}\n",
    "print(s)"
   ]
  },
  {
   "cell_type": "code",
   "execution_count": 37,
   "id": "4c2f0cbe",
   "metadata": {},
   "outputs": [],
   "source": [
    "#did not maintained the order\n",
    "#unique item are stored "
   ]
  },
  {
   "cell_type": "code",
   "execution_count": 38,
   "id": "5fe7515c",
   "metadata": {},
   "outputs": [
    {
     "name": "stdout",
     "output_type": "stream",
     "text": [
      "<class 'set'>\n"
     ]
    }
   ],
   "source": [
    "print(type(s))"
   ]
  },
  {
   "cell_type": "code",
   "execution_count": 39,
   "id": "ae285715",
   "metadata": {},
   "outputs": [
    {
     "name": "stdout",
     "output_type": "stream",
     "text": [
      "{'ARCH', 'EEE', 'CSE', 'MBA'}\n"
     ]
    }
   ],
   "source": [
    "#add value\n",
    "s.add(\"EEE\")\n",
    "print(s)"
   ]
  },
  {
   "cell_type": "code",
   "execution_count": 40,
   "id": "264fbdfc",
   "metadata": {},
   "outputs": [
    {
     "name": "stdout",
     "output_type": "stream",
     "text": [
      "{'ARCH', 'EEE', 'CSE'}\n"
     ]
    }
   ],
   "source": [
    "#remove value \n",
    "s.remove('MBA')\n",
    "print(s)"
   ]
  },
  {
   "cell_type": "code",
   "execution_count": 41,
   "id": "2f774357",
   "metadata": {},
   "outputs": [
    {
     "data": {
      "text/plain": [
       "True"
      ]
     },
     "execution_count": 41,
     "metadata": {},
     "output_type": "execute_result"
    }
   ],
   "source": [
    "#existing \n",
    "\"CSE\" in s"
   ]
  },
  {
   "cell_type": "markdown",
   "id": "053a5b7f",
   "metadata": {},
   "source": [
    "# Map / Hash table / Dictionary"
   ]
  },
  {
   "cell_type": "code",
   "execution_count": 42,
   "id": "32c9aa5c",
   "metadata": {},
   "outputs": [
    {
     "name": "stdout",
     "output_type": "stream",
     "text": [
      "{'Sadika': 90, 'Afrin': 92, 'Meen': 94}\n"
     ]
    }
   ],
   "source": [
    "d = {\"Sadika\": 90 , \"Afrin\": 92 , \"Meen\": 94}\n",
    "print(d)"
   ]
  },
  {
   "cell_type": "code",
   "execution_count": 43,
   "id": "d367bf53",
   "metadata": {},
   "outputs": [],
   "source": [
    "# key can be any data type such as Tuple but not List\n",
    "#value can be any data type"
   ]
  },
  {
   "cell_type": "code",
   "execution_count": 45,
   "id": "35a66c90",
   "metadata": {},
   "outputs": [
    {
     "name": "stdout",
     "output_type": "stream",
     "text": [
      "90\n"
     ]
    }
   ],
   "source": [
    "print(d['Sadika'])"
   ]
  },
  {
   "cell_type": "code",
   "execution_count": 46,
   "id": "f5c51f00",
   "metadata": {},
   "outputs": [
    {
     "data": {
      "text/plain": [
       "92"
      ]
     },
     "execution_count": 46,
     "metadata": {},
     "output_type": "execute_result"
    }
   ],
   "source": [
    "d.get('Afrin')"
   ]
  },
  {
   "cell_type": "code",
   "execution_count": 47,
   "id": "9e6a1956",
   "metadata": {},
   "outputs": [
    {
     "data": {
      "text/plain": [
       "dict_keys(['Sadika', 'Afrin', 'Meen'])"
      ]
     },
     "execution_count": 47,
     "metadata": {},
     "output_type": "execute_result"
    }
   ],
   "source": [
    "d.keys()"
   ]
  },
  {
   "cell_type": "code",
   "execution_count": 48,
   "id": "22c98582",
   "metadata": {},
   "outputs": [
    {
     "data": {
      "text/plain": [
       "dict_values([90, 92, 94])"
      ]
     },
     "execution_count": 48,
     "metadata": {},
     "output_type": "execute_result"
    }
   ],
   "source": [
    "d.values()"
   ]
  },
  {
   "cell_type": "code",
   "execution_count": 49,
   "id": "23268278",
   "metadata": {},
   "outputs": [],
   "source": [
    "dd = {'person':2 , 'cat':4 , 'spider':8}"
   ]
  },
  {
   "cell_type": "code",
   "execution_count": 54,
   "id": "3aac9fe9",
   "metadata": {},
   "outputs": [
    {
     "name": "stdout",
     "output_type": "stream",
     "text": [
      "person\n",
      "cat\n",
      "spider\n"
     ]
    }
   ],
   "source": [
    "for k in dd:\n",
    "    print(k)"
   ]
  },
  {
   "cell_type": "code",
   "execution_count": 52,
   "id": "af4c8abe",
   "metadata": {},
   "outputs": [
    {
     "name": "stdout",
     "output_type": "stream",
     "text": [
      "person has 2 legs\n",
      "cat has 4 legs\n",
      "spider has 8 legs\n"
     ]
    }
   ],
   "source": [
    "for k in dd:\n",
    "    v = dd[k]  \n",
    "    print(f\"{k} has {v} legs\")"
   ]
  },
  {
   "cell_type": "code",
   "execution_count": 55,
   "id": "b6c4f506",
   "metadata": {},
   "outputs": [
    {
     "name": "stdout",
     "output_type": "stream",
     "text": [
      "person has 2 legs\n",
      "cat has 4 legs\n",
      "spider has 8 legs\n"
     ]
    }
   ],
   "source": [
    "for k,v in dd.items():\n",
    "    print(f\"{k} has {v} legs\")\n",
    "    "
   ]
  },
  {
   "cell_type": "code",
   "execution_count": 56,
   "id": "7ecff7f0",
   "metadata": {},
   "outputs": [
    {
     "name": "stdout",
     "output_type": "stream",
     "text": [
      "[1, 2, 3]\n"
     ]
    }
   ],
   "source": [
    "#slicing operator, list \n",
    "a = [1,2,3,4,5,6,7,8,9]\n",
    "print(a[0:3])\n",
    "# staring value inclucive , end value exclusive"
   ]
  },
  {
   "cell_type": "code",
   "execution_count": 57,
   "id": "e41006f0",
   "metadata": {},
   "outputs": [
    {
     "name": "stdout",
     "output_type": "stream",
     "text": [
      "[3, 4, 5]\n"
     ]
    }
   ],
   "source": [
    "print(a[2:5])"
   ]
  },
  {
   "cell_type": "code",
   "execution_count": 58,
   "id": "37a4c6b7",
   "metadata": {},
   "outputs": [
    {
     "name": "stdout",
     "output_type": "stream",
     "text": [
      "[1, 2]\n"
     ]
    }
   ],
   "source": [
    "print(a[:2])"
   ]
  },
  {
   "cell_type": "code",
   "execution_count": 59,
   "id": "86853fd7",
   "metadata": {},
   "outputs": [
    {
     "name": "stdout",
     "output_type": "stream",
     "text": [
      "[4, 5, 6, 7, 8, 9]\n"
     ]
    }
   ],
   "source": [
    "print(a[3:])"
   ]
  },
  {
   "cell_type": "code",
   "execution_count": 60,
   "id": "3367a043",
   "metadata": {},
   "outputs": [
    {
     "name": "stdout",
     "output_type": "stream",
     "text": [
      "[1, 2, 3, 4, 5, 6, 7, 8, 9]\n"
     ]
    }
   ],
   "source": [
    "print(a[:])"
   ]
  },
  {
   "cell_type": "code",
   "execution_count": 61,
   "id": "9008a592",
   "metadata": {},
   "outputs": [
    {
     "name": "stdout",
     "output_type": "stream",
     "text": [
      "[1, 2, 3, 4, 5, 6, 7, 8]\n"
     ]
    }
   ],
   "source": [
    "print(a[:-1])"
   ]
  },
  {
   "cell_type": "code",
   "execution_count": 62,
   "id": "89d164d7",
   "metadata": {},
   "outputs": [],
   "source": [
    "a = [1,2,3,4,5]\n",
    "b = [6,7,8,9,10]"
   ]
  },
  {
   "cell_type": "code",
   "execution_count": 63,
   "id": "9cd6d41c",
   "metadata": {},
   "outputs": [
    {
     "name": "stdout",
     "output_type": "stream",
     "text": [
      "1 6\n",
      "2 7\n",
      "3 8\n",
      "4 9\n",
      "5 10\n"
     ]
    }
   ],
   "source": [
    "for x,y in zip(a,b):\n",
    "    print(x,y)"
   ]
  },
  {
   "cell_type": "code",
   "execution_count": 64,
   "id": "147f5137",
   "metadata": {},
   "outputs": [
    {
     "name": "stdout",
     "output_type": "stream",
     "text": [
      "[1, 2, 3, 4, 5]\n"
     ]
    }
   ],
   "source": [
    "# copy value from a to b\n",
    "a = [1,2,3,4,5]\n",
    "b = []\n",
    "for i in a:\n",
    "    b.append(i)\n",
    "    \n",
    "print(b)"
   ]
  },
  {
   "cell_type": "code",
   "execution_count": 66,
   "id": "e597c5fe",
   "metadata": {},
   "outputs": [],
   "source": [
    "# suggested , for above problem , faster"
   ]
  },
  {
   "cell_type": "markdown",
   "id": "7be22389",
   "metadata": {},
   "source": [
    "# List comprehension"
   ]
  },
  {
   "cell_type": "code",
   "execution_count": 67,
   "id": "bd388e88",
   "metadata": {},
   "outputs": [
    {
     "name": "stdout",
     "output_type": "stream",
     "text": [
      "[1, 2, 3, 4, 5]\n"
     ]
    }
   ],
   "source": [
    "c = [x for x in a]\n",
    "print(c)"
   ]
  },
  {
   "cell_type": "code",
   "execution_count": 68,
   "id": "e8608af6",
   "metadata": {},
   "outputs": [
    {
     "name": "stdout",
     "output_type": "stream",
     "text": [
      "[1, 4, 9, 16, 25]\n"
     ]
    }
   ],
   "source": [
    "sq = [x**2 for x in a]\n",
    "print(sq)"
   ]
  },
  {
   "cell_type": "code",
   "execution_count": 69,
   "id": "4a605c5f",
   "metadata": {},
   "outputs": [
    {
     "name": "stdout",
     "output_type": "stream",
     "text": [
      "[4, 16]\n"
     ]
    }
   ],
   "source": [
    "sq = [x**2 for x in a if x%2==0]\n",
    "print(sq)"
   ]
  },
  {
   "cell_type": "code",
   "execution_count": 70,
   "id": "d5c20ed5",
   "metadata": {},
   "outputs": [],
   "source": [
    "d = {(a,a):[a,a**2] for a in range(5)}"
   ]
  },
  {
   "cell_type": "code",
   "execution_count": 71,
   "id": "5713e2a1",
   "metadata": {},
   "outputs": [
    {
     "name": "stdout",
     "output_type": "stream",
     "text": [
      "{(0, 0): [0, 0], (1, 1): [1, 1], (2, 2): [2, 4], (3, 3): [3, 9], (4, 4): [4, 16]}\n"
     ]
    }
   ],
   "source": [
    "print(d)"
   ]
  },
  {
   "cell_type": "code",
   "execution_count": 73,
   "id": "8ed03f9d",
   "metadata": {},
   "outputs": [
    {
     "data": {
      "text/plain": [
       "[4, 16]"
      ]
     },
     "execution_count": 73,
     "metadata": {},
     "output_type": "execute_result"
    }
   ],
   "source": [
    "d[(4,4)]"
   ]
  },
  {
   "cell_type": "code",
   "execution_count": 3,
   "id": "e2cf67fe",
   "metadata": {},
   "outputs": [
    {
     "name": "stdout",
     "output_type": "stream",
     "text": [
      "(5,)\n"
     ]
    }
   ],
   "source": [
    "import numpy as np\n",
    "a = np.array([1,2,3,4,5])\n",
    "print(a.shape)"
   ]
  },
  {
   "cell_type": "code",
   "execution_count": 4,
   "id": "b75665c4",
   "metadata": {},
   "outputs": [
    {
     "name": "stdout",
     "output_type": "stream",
     "text": [
      "[[0. 0. 0. 0. 0.]\n",
      " [0. 0. 0. 0. 0.]\n",
      " [0. 0. 0. 0. 0.]\n",
      " [0. 0. 0. 0. 0.]\n",
      " [0. 0. 0. 0. 0.]]\n"
     ]
    }
   ],
   "source": [
    "a = np.zeros((5,5))\n",
    "print(a)"
   ]
  },
  {
   "cell_type": "code",
   "execution_count": 5,
   "id": "12abce3e",
   "metadata": {},
   "outputs": [
    {
     "name": "stdout",
     "output_type": "stream",
     "text": [
      "[[1. 1. 1. 1. 1.]\n",
      " [1. 1. 1. 1. 1.]\n",
      " [1. 1. 1. 1. 1.]]\n"
     ]
    }
   ],
   "source": [
    "a = np.ones((3,5))\n",
    "print(a)"
   ]
  },
  {
   "cell_type": "code",
   "execution_count": 6,
   "id": "63cc96c3",
   "metadata": {},
   "outputs": [
    {
     "name": "stdout",
     "output_type": "stream",
     "text": [
      "[[9 9 9 9 9]\n",
      " [9 9 9 9 9]\n",
      " [9 9 9 9 9]]\n"
     ]
    }
   ],
   "source": [
    "a = np.full((3,5),9)\n",
    "print(a)"
   ]
  },
  {
   "cell_type": "code",
   "execution_count": null,
   "id": "94cc964f",
   "metadata": {},
   "outputs": [],
   "source": []
  }
 ],
 "metadata": {
  "kernelspec": {
   "display_name": "Python 3",
   "language": "python",
   "name": "python3"
  },
  "language_info": {
   "codemirror_mode": {
    "name": "ipython",
    "version": 3
   },
   "file_extension": ".py",
   "mimetype": "text/x-python",
   "name": "python",
   "nbconvert_exporter": "python",
   "pygments_lexer": "ipython3",
   "version": "3.8.8"
  }
 },
 "nbformat": 4,
 "nbformat_minor": 5
}
