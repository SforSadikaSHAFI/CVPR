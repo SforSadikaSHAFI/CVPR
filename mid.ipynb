{
  "nbformat": 4,
  "nbformat_minor": 0,
  "metadata": {
    "colab": {
      "name": "mid.ipynb",
      "provenance": [],
      "collapsed_sections": []
    },
    "kernelspec": {
      "name": "python3",
      "display_name": "Python 3"
    },
    "language_info": {
      "name": "python"
    }
  },
  "cells": [
    {
      "cell_type": "markdown",
      "source": [
        "**NAME : Meen, Sadika Afrin** <br>\n",
        "**ID   : 19-41178-2** <br>\n",
        "**SEC  : C** \n",
        "**{CVPR}**"
      ],
      "metadata": {
        "id": "vkVyb3WJHY0X"
      }
    },
    {
      "cell_type": "code",
      "source": [
        "from google.colab import drive\n",
        "drive.mount('/content/drive/')"
      ],
      "metadata": {
        "id": "xe7IFIpJpvIM",
        "outputId": "24d4ca6b-9448-49b4-b35d-5735e6931e91",
        "colab": {
          "base_uri": "https://localhost:8080/"
        }
      },
      "execution_count": 2,
      "outputs": [
        {
          "output_type": "stream",
          "name": "stdout",
          "text": [
            "Drive already mounted at /content/drive/; to attempt to forcibly remount, call drive.mount(\"/content/drive/\", force_remount=True).\n"
          ]
        }
      ]
    },
    {
      "cell_type": "code",
      "execution_count": 3,
      "metadata": {
        "id": "c3ahbsKlteNg"
      },
      "outputs": [],
      "source": [
        "\n",
        "import os\n",
        "import cv2\n",
        "import numpy as np\n",
        "import matplotlib.pyplot as plt\n",
        "import glob\n"
      ]
    },
    {
      "cell_type": "code",
      "source": [
        "\n",
        "\n",
        "train_path = r'/content/drive/MyDrive/CVPR/dataset/train'\n",
        "test_path = r'/content/drive/MyDrive/CVPR/dataset/test'\n",
        "\n",
        "X_train = []\n",
        "y_train = []\n",
        "X_test = []\n",
        "y_test = []\n",
        "\n",
        "categories = os.listdir(train_path)\n",
        "print(categories)\n",
        "\n",
        "\n",
        "category_count = 0\n",
        "for category in categories:\n",
        "    category_count += 1\n",
        "    print('Reading category:',category_count)\n",
        "    train_category_path = os.path.join(train_path,category)\n",
        "    test_category_path = os.path.join(test_path,category)\n",
        "    train_images = os.listdir(train_category_path)\n",
        "    test_images = os.listdir(test_category_path)\n",
        "    #print(images)\n",
        "    \n",
        "    # Reading Train Data\n",
        "    for image in train_images:\n",
        "        #print(os.path.join(category_path,image))\n",
        "        X_train.append(cv2.imread(os.path.join(train_category_path,image)))\n",
        "        y_train.append(category)\n",
        "        \n",
        "    # Reading Test Data\n",
        "    for image in test_images:\n",
        "        #print(os.path.join(category_path,image))\n",
        "        X_test.append(cv2.imread(os.path.join(test_category_path,image)))\n",
        "        y_test.append(category)\n",
        "        \n",
        "print('Done')"
      ],
      "metadata": {
        "id": "8OYND9sd1XTH",
        "colab": {
          "base_uri": "https://localhost:8080/"
        },
        "outputId": "c65b1920-88f5-4fb6-9410-b22d9ce44890"
      },
      "execution_count": 5,
      "outputs": [
        {
          "output_type": "stream",
          "name": "stdout",
          "text": [
            "['dog', 'deer', 'bird', 'airplane', 'cat', 'automobile']\n",
            "Reading category: 1\n",
            "Reading category: 2\n",
            "Reading category: 3\n",
            "Reading category: 4\n",
            "Reading category: 5\n",
            "Reading category: 6\n",
            "Done\n"
          ]
        }
      ]
    },
    {
      "cell_type": "markdown",
      "source": [
        "**Train Data Checking**"
      ],
      "metadata": {
        "id": "vHVuTMp7nTSa"
      }
    },
    {
      "cell_type": "code",
      "source": [
        "print(len(X_train))\n",
        "print(len(y_train))\n",
        "print(type(X_train[20000]))\n",
        "print(X_train[20000].shape)\n",
        "print(X_train[20000])\n",
        "print(y_train[20000])\n",
        "plt.figure()\n",
        "plt.imshow(X_train[20000])"
      ],
      "metadata": {
        "id": "IHD72SJvnP_q",
        "colab": {
          "base_uri": "https://localhost:8080/",
          "height": 1000
        },
        "outputId": "b53a8231-f778-46cb-b056-71508dc30ec4"
      },
      "execution_count": 7,
      "outputs": [
        {
          "output_type": "stream",
          "name": "stdout",
          "text": [
            "23595\n",
            "23595\n",
            "<class 'numpy.ndarray'>\n",
            "(32, 32, 3)\n",
            "[[[ 40  44  63]\n",
            "  [ 30  34  52]\n",
            "  [ 39  42  57]\n",
            "  ...\n",
            "  [213 214 204]\n",
            "  [177 180 165]\n",
            "  [179 185 168]]\n",
            "\n",
            " [[114 118 137]\n",
            "  [ 98 100 118]\n",
            "  [ 83  86 100]\n",
            "  ...\n",
            "  [227 226 222]\n",
            "  [201 204 195]\n",
            "  [179 185 174]]\n",
            "\n",
            " [[200 201 221]\n",
            "  [197 199 217]\n",
            "  [186 187 201]\n",
            "  ...\n",
            "  [225 219 230]\n",
            "  [220 220 226]\n",
            "  [185 188 192]]\n",
            "\n",
            " ...\n",
            "\n",
            " [[  9  37  24]\n",
            "  [  5  33  20]\n",
            "  [  4  29  19]\n",
            "  ...\n",
            "  [ 60 115 120]\n",
            "  [ 55 112 114]\n",
            "  [ 59 119 119]]\n",
            "\n",
            " [[ 24  60  44]\n",
            "  [ 23  58  44]\n",
            "  [ 22  56  45]\n",
            "  ...\n",
            "  [ 53 113 113]\n",
            "  [ 52 116 110]\n",
            "  [ 57 122 113]]\n",
            "\n",
            " [[ 63 102  86]\n",
            "  [ 64 103  88]\n",
            "  [ 65 103  91]\n",
            "  ...\n",
            "  [ 55 119 114]\n",
            "  [ 48 113 104]\n",
            "  [ 39 108  95]]]\n",
            "automobile\n"
          ]
        },
        {
          "output_type": "execute_result",
          "data": {
            "text/plain": [
              "<matplotlib.image.AxesImage at 0x7f7d6c658590>"
            ]
          },
          "metadata": {},
          "execution_count": 7
        },
        {
          "output_type": "display_data",
          "data": {
            "text/plain": [
              "<Figure size 432x288 with 1 Axes>"
            ],
            "image/png": "[encoded data removed]"
          },
          "metadata": {
            "needs_background": "light"
          }
        }
      ]
    },
    {
      "cell_type": "markdown",
      "source": [
        "**Test Data Checking**"
      ],
      "metadata": {
        "id": "svWtFIIsnh6X"
      }
    },
    {
      "cell_type": "code",
      "source": [
        "print(len(X_test))\n",
        "print(len(y_test))\n",
        "print(type(X_test[500]))\n",
        "print(X_test[500].shape)\n",
        "print(X_test[500])\n",
        "print(y_test[500])\n",
        "plt.figure()\n",
        "plt.imshow(X_test[500])\n",
        "print(type(y_test))"
      ],
      "metadata": {
        "id": "tD9ZP_I6no6L",
        "colab": {
          "base_uri": "https://localhost:8080/",
          "height": 1000
        },
        "outputId": "b1da4139-8b89-4189-af6e-afbd699c977f"
      },
      "execution_count": 8,
      "outputs": [
        {
          "output_type": "stream",
          "name": "stdout",
          "text": [
            "6000\n",
            "6000\n",
            "<class 'numpy.ndarray'>\n",
            "(32, 32, 3)\n",
            "[[[ 49  65  82]\n",
            "  [ 47  64  83]\n",
            "  [ 42  63  85]\n",
            "  ...\n",
            "  [ 59  79 110]\n",
            "  [ 60  80 111]\n",
            "  [ 61  81 112]]\n",
            "\n",
            " [[ 49  65  82]\n",
            "  [ 46  63  82]\n",
            "  [ 42  63  85]\n",
            "  ...\n",
            "  [ 58  78 109]\n",
            "  [ 59  79 110]\n",
            "  [ 59  79 110]]\n",
            "\n",
            " [[ 48  63  82]\n",
            "  [ 45  62  83]\n",
            "  [ 41  62  84]\n",
            "  ...\n",
            "  [ 57  78 109]\n",
            "  [ 58  79 110]\n",
            "  [ 59  80 111]]\n",
            "\n",
            " ...\n",
            "\n",
            " [[ 35  58  96]\n",
            "  [ 35  58  96]\n",
            "  [ 36  59  97]\n",
            "  ...\n",
            "  [ 49  76 110]\n",
            "  [ 50  78 109]\n",
            "  [ 50  78 109]]\n",
            "\n",
            " [[ 33  56  94]\n",
            "  [ 34  57  95]\n",
            "  [ 35  57  98]\n",
            "  ...\n",
            "  [ 51  78 112]\n",
            "  [ 52  80 111]\n",
            "  [ 53  81 112]]\n",
            "\n",
            " [[ 34  57  95]\n",
            "  [ 35  58  96]\n",
            "  [ 37  59 100]\n",
            "  ...\n",
            "  [ 54  81 115]\n",
            "  [ 55  83 114]\n",
            "  [ 56  84 115]]]\n",
            "dog\n",
            "<class 'list'>\n"
          ]
        },
        {
          "output_type": "display_data",
          "data": {
            "text/plain": [
              "<Figure size 432x288 with 1 Axes>"
            ],
            "image/png": "[encoded data removed]"
          },
          "metadata": {
            "needs_background": "light"
          }
        }
      ]
    },
    {
      "cell_type": "markdown",
      "source": [
        "**Manhattan Distance**"
      ],
      "metadata": {
        "id": "hiITuE7ewDAI"
      }
    },
    {
      "cell_type": "code",
      "source": [
        "def calc_manhattan_distance(v1,v2):\n",
        "  distance = 0\n",
        "  for i in range(len(v1)):\n",
        "    distance += abs( int(v1[i]) - int(v2[i]) )\n",
        "    return distance"
      ],
      "metadata": {
        "id": "qAEgsPsHv6-n"
      },
      "execution_count": 4,
      "outputs": []
    },
    {
      "cell_type": "markdown",
      "source": [
        "**Computing Manhattan Distance**"
      ],
      "metadata": {
        "id": "GBuf75_fnt4q"
      }
    },
    {
      "cell_type": "code",
      "source": [
        "distances = []\n",
        "completed = 0\n",
        "\n",
        "print('Computing Manhattan distance ===>')\n",
        "\n",
        "for test_image in X_test:\n",
        "    manhattan_dist = []\n",
        "    for train_image in X_train:\n",
        "        manhattan_dist.append(np.sum(abs(test_image.flatten()-train_image.flatten())))\n",
        "    distances.append(manhattan_dist)\n",
        "    completed += 1\n",
        "    if completed%1000 == 0:\n",
        "        print(f'Completed: {int(completed/100)}%')\n",
        "        \n",
        "print('Completed..')"
      ],
      "metadata": {
        "id": "GGz5eql0n1yD",
        "colab": {
          "base_uri": "https://localhost:8080/"
        },
        "outputId": "3b2c0b9a-9210-4f9b-d82f-e7f4117eb7cc"
      },
      "execution_count": 9,
      "outputs": [
        {
          "output_type": "stream",
          "name": "stdout",
          "text": [
            "Computing Manhattan distance ===>\n",
            "Completed: 10%\n",
            "Completed: 20%\n",
            "Completed: 30%\n",
            "Completed: 40%\n",
            "Completed: 50%\n",
            "Completed: 60%\n",
            "Completed..\n"
          ]
        }
      ]
    },
    {
      "cell_type": "markdown",
      "source": [
        "**Distance Checking**"
      ],
      "metadata": {
        "id": "PkjjgXWgn6Zo"
      }
    },
    {
      "cell_type": "code",
      "source": [
        "print(len(distances))\n",
        "print(len(distances[1]))\n",
        "print(min(distances[1]))"
      ],
      "metadata": {
        "id": "UdI1zEmcn9Ce",
        "colab": {
          "base_uri": "https://localhost:8080/"
        },
        "outputId": "142fae2f-e0df-4b76-f9cb-43436e39a842"
      },
      "execution_count": 10,
      "outputs": [
        {
          "output_type": "stream",
          "name": "stdout",
          "text": [
            "6000\n",
            "23595\n",
            "238081\n"
          ]
        }
      ]
    },
    {
      "cell_type": "markdown",
      "source": [
        "**KNN**"
      ],
      "metadata": {
        "id": "EEr7nGNUoFsr"
      }
    },
    {
      "cell_type": "code",
      "source": [
        "min_value_index = np.argmin(distances[1])\n",
        "print(min_value_index)\n",
        "print(distances[1][min_value_index])\n",
        "print('Predicted:',y_train[min_value_index])\n",
        "print('Actual:',y_test[1])"
      ],
      "metadata": {
        "id": "uWWV_iXQoHsK",
        "colab": {
          "base_uri": "https://localhost:8080/"
        },
        "outputId": "24951312-ea03-499e-860a-5949d16e2afc"
      },
      "execution_count": 11,
      "outputs": [
        {
          "output_type": "stream",
          "name": "stdout",
          "text": [
            "269\n",
            "238081\n",
            "Predicted: dog\n",
            "Actual: dog\n"
          ]
        }
      ]
    },
    {
      "cell_type": "markdown",
      "source": [
        "**Accuracy**"
      ],
      "metadata": {
        "id": "rFvJT95ioTI4"
      }
    },
    {
      "cell_type": "code",
      "source": [
        "correct = 0\n",
        "wrong = 0\n",
        "\n",
        "for i,distance in enumerate(distances):\n",
        "    min_value_index = np.argmin(distance)\n",
        "    #print(y_test[i])\n",
        "    if y_test[i] == y_train[min_value_index]:\n",
        "        correct += 1\n",
        "    else:\n",
        "        wrong += 1\n",
        "        \n",
        "print('Correct:',correct)\n",
        "print('Wrong',wrong)\n",
        "accuracy = (correct/len(distances))*100\n",
        "print(f'Accuracy: {accuracy}%')"
      ],
      "metadata": {
        "id": "fXWxKN6aoXQm",
        "colab": {
          "base_uri": "https://localhost:8080/"
        },
        "outputId": "c5f51048-842a-4920-99c1-509e147e5ba4"
      },
      "execution_count": 12,
      "outputs": [
        {
          "output_type": "stream",
          "name": "stdout",
          "text": [
            "Correct: 2061\n",
            "Wrong 3939\n",
            "Accuracy: 34.35%\n"
          ]
        }
      ]
    },
    {
      "cell_type": "markdown",
      "source": [
        "K=1-20"
      ],
      "metadata": {
        "id": "Vx3JkjGfoaRq"
      }
    },
    {
      "cell_type": "code",
      "source": [
        "accuracies = []\n",
        "k_values = range(1,21)\n",
        "\n",
        "for k in k_values:  \n",
        "    correct = 0\n",
        "    wrong = 0\n",
        "    for i,distance in enumerate(distances):\n",
        "        sorted_dist = np.argsort(distance)\n",
        "        #print(sorted_dist[:5])\n",
        "        predictions = []\n",
        "        for dist in sorted_dist[:k]:\n",
        "            predictions.append(y_train[dist])\n",
        "        #print(y_test[i])\n",
        "        predicted = max(predictions, key=predictions.count)\n",
        "        #print('predictions:',predictions)\n",
        "        #print('Predicted:',predicted)\n",
        "        if predicted == y_test[i]:\n",
        "            correct += 1\n",
        "        else:\n",
        "            wrong += 1\n",
        "\n",
        "    accuracy = (correct/len(distances))*100\n",
        "    accuracies.append(accuracy)\n",
        "    "
      ],
      "metadata": {
        "id": "uHlxLXy-ofR8"
      },
      "execution_count": 14,
      "outputs": []
    },
    {
      "cell_type": "markdown",
      "source": [
        "Ploting Graph"
      ],
      "metadata": {
        "id": "B8Oz0kdboiyQ"
      }
    },
    {
      "cell_type": "code",
      "source": [
        "plt.figure()\n",
        "plt.plot(k_values,accuracies,'g.-')\n",
        "plt.xlabel('K values')\n",
        "plt.ylabel('Percentage of Accuracy (%)')\n",
        "plt.xticks(k_values)\n",
        "plt.grid(True)\n",
        "plt.show()"
      ],
      "metadata": {
        "id": "R2xvTE3QomWH",
        "colab": {
          "base_uri": "https://localhost:8080/",
          "height": 279
        },
        "outputId": "19dcd6c7-127a-40c2-dec2-e1d79cd46989"
      },
      "execution_count": 15,
      "outputs": [
        {
          "output_type": "display_data",
          "data": {
            "text/plain": [
              "<Figure size 432x288 with 1 Axes>"
            ],
            "image/png": "[encoded data removed]"
          },
          "metadata": {
            "needs_background": "light"
          }
        }
      ]
    }
  ]
}